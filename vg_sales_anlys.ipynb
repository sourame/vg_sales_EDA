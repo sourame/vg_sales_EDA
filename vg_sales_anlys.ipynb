{
 "cells": [
  {
   "cell_type": "code",
   "execution_count": 1,
   "metadata": {},
   "outputs": [],
   "source": [
    "import numpy as np\n",
    "import pandas as pd\n",
    "import matplotlib.pyplot as plt\n",
    "import seaborn as sns\n",
    "from matplotlib import rcParams\n",
    "from sklearn import metrics\n",
    "from sklearn.metrics import accuracy_score,mean_squared_error,r2_score\n",
    "from sklearn.linear_model import LinearRegression,LogisticRegression,Ridge,Lasso\n",
    "from sklearn.tree import DecisionTreeClassifier,DecisionTreeRegressor\n",
    "from sklearn.model_selection import train_test_split \n",
    "#from statsmodels.stats.outliers_influence import variance_inflation_factor"
   ]
  },
  {
   "cell_type": "code",
   "execution_count": 2,
   "metadata": {},
   "outputs": [],
   "source": [
    "v_game_df = pd.read_csv('./Video_Games_Sales_as_at_22_Dec_2016.csv')\n",
    "#v_game_df.head(5)"
   ]
  },
  {
   "cell_type": "code",
   "execution_count": 3,
   "metadata": {},
   "outputs": [
    {
     "name": "stdout",
     "output_type": "stream",
     "text": [
      "(16719, 16)\n",
      "(6825, 16)\n"
     ]
    }
   ],
   "source": [
    "print(v_game_df.shape) # (16719, 16)\n",
    "v_game_df.dropna(inplace=True)\n",
    "print(v_game_df.shape) # (6825, 16)"
   ]
  },
  {
   "cell_type": "code",
   "execution_count": 17,
   "metadata": {},
   "outputs": [
    {
     "data": {
      "text/plain": [
       "(6825, 5)"
      ]
     },
     "execution_count": 17,
     "metadata": {},
     "output_type": "execute_result"
    }
   ],
   "source": [
    "vg_reg_df = v_game_df[['Genre','Platform','Publisher','Year_of_Release','Global_Sales']]\n",
    "vg_reg_df.shape"
   ]
  },
  {
   "cell_type": "code",
   "execution_count": 18,
   "metadata": {},
   "outputs": [
    {
     "data": {
      "text/plain": [
       "(6825, 294)"
      ]
     },
     "execution_count": 18,
     "metadata": {},
     "output_type": "execute_result"
    }
   ],
   "source": [
    "vg_reg_df = pd.concat([pd.get_dummies(vg_reg_df[['Genre','Platform','Publisher']]),vg_reg_df[['Year_of_Release','Global_Sales']]],axis = 1)\n",
    "vg_reg_df.shape"
   ]
  },
  {
   "cell_type": "code",
   "execution_count": 19,
   "metadata": {},
   "outputs": [],
   "source": [
    "data = vg_reg_df.values \n",
    "X,Y = data[:,:-1], data[:,-1]\n",
    "# print('Input shape: ', X.shape)\n",
    "# print('Output shape: ', Y.shape)\n",
    "#Y[:5]"
   ]
  },
  {
   "cell_type": "code",
   "execution_count": null,
   "metadata": {},
   "outputs": [],
   "source": [
    "model = LinearRegression()\n",
    "X_train, X_test, Y_train, Y_test = train_test_split(X,Y,test_size=0.3)\n",
    "model.fit(X_train,Y_train)\n",
    "Y_lin_pred = model.predict(X_test)\n",
    "print('MSE: ',mean_squared_error(Y_test, Y_lin_pred))\n",
    "print('r2 score: ',r2_score(Y_test, Y_lin_pred))"
   ]
  },
  {
   "cell_type": "code",
   "execution_count": 8,
   "metadata": {},
   "outputs": [],
   "source": [
    "model = Ridge(alpha = 1.0)\n",
    "X_train, X_test, Y_train, Y_test = train_test_split(X,Y,test_size=0.3)\n",
    "model.fit(X_train,Y_train)\n",
    "Y_rid_pred = model.predict(X_test)"
   ]
  },
  {
   "cell_type": "code",
   "execution_count": 9,
   "metadata": {},
   "outputs": [
    {
     "name": "stdout",
     "output_type": "stream",
     "text": [
      "MSE:  2.3115976030491066\n",
      "r2 score:  0.1384601225070441\n"
     ]
    }
   ],
   "source": [
    "print('MSE: ',mean_squared_error(Y_test, Y_rid_pred))\n",
    "print('r2 score: ',r2_score(Y_test, Y_rid_pred))"
   ]
  },
  {
   "cell_type": "code",
   "execution_count": 10,
   "metadata": {},
   "outputs": [
    {
     "name": "stdout",
     "output_type": "stream",
     "text": [
      "(6825, 10)\n",
      "(6825, 305)\n"
     ]
    }
   ],
   "source": [
    "vgRidge2 = v_game_df[['Genre','Platform','Publisher','Year_of_Release','Critic_Score','Critic_Count','User_Score','User_Count','Rating','Global_Sales']]\n",
    "print(vgRidge2.shape)\n",
    "vgRidge2 = pd.concat([pd.get_dummies(vgRidge2[['Genre','Platform','Publisher','Critic_Score','Critic_Count','User_Score','User_Count','Rating']]),vgRidge2[['Year_of_Release','Global_Sales']]],axis = 1)\n",
    "print(vgRidge2.shape)"
   ]
  },
  {
   "cell_type": "code",
   "execution_count": 13,
   "metadata": {},
   "outputs": [],
   "source": [
    "data_new = vgRidge2.values \n",
    "X,Y = data_new[:,:-1], data_new[:,-1]\n",
    "model = Ridge(alpha = 1.0)\n",
    "X_train, X_test, Y_train, Y_test = train_test_split(X,Y,test_size=0.3)\n",
    "model.fit(X_train,Y_train)\n",
    "Y_rid_pred = model.predict(X_test)"
   ]
  },
  {
   "cell_type": "code",
   "execution_count": 14,
   "metadata": {},
   "outputs": [
    {
     "name": "stdout",
     "output_type": "stream",
     "text": [
      "MSE:  2.031460705372929\n",
      "r2 score:  0.3250053831064691\n"
     ]
    }
   ],
   "source": [
    "print('MSE: ',mean_squared_error(Y_test, Y_rid_pred))\n",
    "print('r2 score: ',r2_score(Y_test, Y_rid_pred))"
   ]
  },
  {
   "cell_type": "code",
   "execution_count": 16,
   "metadata": {},
   "outputs": [
    {
     "name": "stdout",
     "output_type": "stream",
     "text": [
      "MSE:  4.305727577621559\n",
      "r2 score:  -0.5380697207312806\n"
     ]
    }
   ],
   "source": [
    "dtc=DecisionTreeRegressor()\n",
    "dtc.fit(X_train,Y_train)\n",
    "y_dtc_pred=dtc.predict(X_test)\n",
    "print('MSE: ',mean_squared_error(Y_test, y_dtc_pred))\n",
    "print('r2 score: ',r2_score(Y_test, y_dtc_pred))"
   ]
  }
 ],
 "metadata": {
  "kernelspec": {
   "display_name": "Python 3.9.6 64-bit",
   "language": "python",
   "name": "python3"
  },
  "language_info": {
   "codemirror_mode": {
    "name": "ipython",
    "version": 3
   },
   "file_extension": ".py",
   "mimetype": "text/x-python",
   "name": "python",
   "nbconvert_exporter": "python",
   "pygments_lexer": "ipython3",
   "version": "3.9.6"
  },
  "orig_nbformat": 4,
  "vscode": {
   "interpreter": {
    "hash": "064c61315aae0ca9d7275e603579a015c4f5063cf5ce1cb12b7134bd4c36887f"
   }
  }
 },
 "nbformat": 4,
 "nbformat_minor": 2
}
